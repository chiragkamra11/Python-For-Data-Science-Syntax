{
 "cells": [
  {
   "cell_type": "code",
   "execution_count": 1,
   "metadata": {},
   "outputs": [],
   "source": [
    "import pandas as pd"
   ]
  },
  {
   "cell_type": "code",
   "execution_count": 2,
   "metadata": {},
   "outputs": [],
   "source": [
    "import datetime"
   ]
  },
  {
   "cell_type": "code",
   "execution_count": 3,
   "metadata": {},
   "outputs": [],
   "source": [
    "file1 = 'datasets/14_Dates_Times/capital-onebike.csv'"
   ]
  },
  {
   "cell_type": "markdown",
   "metadata": {},
   "source": [
    "# 1. Dates and Calendars"
   ]
  },
  {
   "cell_type": "code",
   "execution_count": 1,
   "metadata": {},
   "outputs": [
    {
     "name": "stdout",
     "output_type": "stream",
     "text": [
      "0\n"
     ]
    }
   ],
   "source": [
    "# Import date from datetime\n",
    "from datetime import date\n",
    "\n",
    "# Create a date object\n",
    "hurricane_andrew = date(1992, 8, 24)\n",
    "\n",
    "# Which day of the week is the date?\n",
    "print(hurricane_andrew.weekday())"
   ]
  },
  {
   "cell_type": "markdown",
   "metadata": {},
   "source": [
    "Weekday is day of week and not weekday/weekend seperator. 0 is sunday and not monday on python."
   ]
  },
  {
   "cell_type": "code",
   "execution_count": 5,
   "metadata": {},
   "outputs": [],
   "source": [
    "florida_hurricane_dates = [datetime.date(1950, 8, 31),\n",
    " datetime.date(1950, 9, 5),\n",
    " datetime.date(1950, 10, 18),\n",
    " datetime.date(1950, 10, 21),\n",
    " datetime.date(1951, 5, 18),\n",
    " datetime.date(1951, 10, 2),\n",
    " datetime.date(1952, 2, 3),\n",
    " datetime.date(1952, 8, 30),\n",
    " datetime.date(1953, 6, 6),\n",
    " datetime.date(1953, 8, 29),\n",
    " datetime.date(1953, 9, 20),\n",
    " datetime.date(1953, 9, 26),\n",
    " datetime.date(1953, 10, 9),\n",
    " datetime.date(1955, 8, 21),\n",
    " datetime.date(1956, 7, 6),\n",
    " datetime.date(1956, 9, 24),\n",
    " datetime.date(1956, 10, 15),\n",
    " datetime.date(1957, 6, 8),\n",
    " datetime.date(1957, 9, 8),\n",
    " datetime.date(1958, 9, 4),\n",
    " datetime.date(1959, 6, 18),\n",
    " datetime.date(1959, 10, 8),\n",
    " datetime.date(1959, 10, 18),\n",
    " datetime.date(1960, 7, 29),\n",
    " datetime.date(1960, 9, 10),\n",
    " datetime.date(1960, 9, 15),\n",
    " datetime.date(1960, 9, 23),\n",
    " datetime.date(1961, 9, 11),\n",
    " datetime.date(1961, 10, 29),\n",
    " datetime.date(1962, 8, 26),\n",
    " datetime.date(1963, 10, 21),\n",
    " datetime.date(1964, 6, 6),\n",
    " datetime.date(1964, 8, 27),\n",
    " datetime.date(1964, 9, 10),\n",
    " datetime.date(1964, 9, 20),\n",
    " datetime.date(1964, 10, 5),\n",
    " datetime.date(1964, 10, 14),\n",
    " datetime.date(1965, 6, 15),\n",
    " datetime.date(1965, 9, 8),\n",
    " datetime.date(1965, 9, 30),\n",
    " datetime.date(1966, 6, 9),\n",
    " datetime.date(1966, 6, 30),\n",
    " datetime.date(1966, 7, 24),\n",
    " datetime.date(1966, 10, 4),\n",
    " datetime.date(1968, 6, 4),\n",
    " datetime.date(1968, 6, 18),\n",
    " datetime.date(1968, 7, 5),\n",
    " datetime.date(1968, 8, 10),\n",
    " datetime.date(1968, 8, 28),\n",
    " datetime.date(1968, 9, 26),\n",
    " datetime.date(1968, 10, 19),\n",
    " datetime.date(1969, 6, 9),\n",
    " datetime.date(1969, 8, 18),\n",
    " datetime.date(1969, 8, 29),\n",
    " datetime.date(1969, 9, 7),\n",
    " datetime.date(1969, 9, 21),\n",
    " datetime.date(1969, 10, 1),\n",
    " datetime.date(1969, 10, 2),\n",
    " datetime.date(1969, 10, 21),\n",
    " datetime.date(1970, 5, 25),\n",
    " datetime.date(1970, 7, 22),\n",
    " datetime.date(1970, 8, 6),\n",
    " datetime.date(1970, 9, 13),\n",
    " datetime.date(1970, 9, 27),\n",
    " datetime.date(1971, 8, 10),\n",
    " datetime.date(1971, 8, 13),\n",
    " datetime.date(1971, 8, 29),\n",
    " datetime.date(1971, 9, 1),\n",
    " datetime.date(1971, 9, 16),\n",
    " datetime.date(1971, 10, 13),\n",
    " datetime.date(1972, 5, 28),\n",
    " datetime.date(1972, 6, 19),\n",
    " datetime.date(1972, 9, 5),\n",
    " datetime.date(1973, 6, 7),\n",
    " datetime.date(1973, 6, 23),\n",
    " datetime.date(1973, 9, 3),\n",
    " datetime.date(1973, 9, 25),\n",
    " datetime.date(1974, 6, 25),\n",
    " datetime.date(1974, 9, 8),\n",
    " datetime.date(1974, 9, 27),\n",
    " datetime.date(1974, 10, 7),\n",
    " datetime.date(1975, 6, 27),\n",
    " datetime.date(1975, 7, 29),\n",
    " datetime.date(1975, 9, 23),\n",
    " datetime.date(1975, 10, 1),\n",
    " datetime.date(1975, 10, 16),\n",
    " datetime.date(1976, 5, 23),\n",
    " datetime.date(1976, 6, 11),\n",
    " datetime.date(1976, 8, 19),\n",
    " datetime.date(1976, 9, 13),\n",
    " datetime.date(1977, 8, 27),\n",
    " datetime.date(1977, 9, 5),\n",
    " datetime.date(1978, 6, 22),\n",
    " datetime.date(1979, 7, 11),\n",
    " datetime.date(1979, 9, 3),\n",
    " datetime.date(1979, 9, 12),\n",
    " datetime.date(1979, 9, 24),\n",
    " datetime.date(1980, 8, 7),\n",
    " datetime.date(1980, 11, 18),\n",
    " datetime.date(1981, 8, 17),\n",
    " datetime.date(1982, 6, 18),\n",
    " datetime.date(1982, 9, 11),\n",
    " datetime.date(1983, 8, 28),\n",
    " datetime.date(1984, 9, 9),\n",
    " datetime.date(1984, 9, 27),\n",
    " datetime.date(1984, 10, 26),\n",
    " datetime.date(1985, 7, 23),\n",
    " datetime.date(1985, 8, 15),\n",
    " datetime.date(1985, 10, 10),\n",
    " datetime.date(1985, 11, 21),\n",
    " datetime.date(1986, 6, 26),\n",
    " datetime.date(1986, 8, 13),\n",
    " datetime.date(1987, 8, 14),\n",
    " datetime.date(1987, 9, 7),\n",
    " datetime.date(1987, 10, 12),\n",
    " datetime.date(1987, 11, 4),\n",
    " datetime.date(1988, 5, 30),\n",
    " datetime.date(1988, 8, 4),\n",
    " datetime.date(1988, 8, 13),\n",
    " datetime.date(1988, 8, 23),\n",
    " datetime.date(1988, 9, 4),\n",
    " datetime.date(1988, 9, 10),\n",
    " datetime.date(1988, 9, 13),\n",
    " datetime.date(1988, 11, 23),\n",
    " datetime.date(1989, 9, 22),\n",
    " datetime.date(1990, 5, 25),\n",
    " datetime.date(1990, 10, 9),\n",
    " datetime.date(1990, 10, 12),\n",
    " datetime.date(1991, 6, 30),\n",
    " datetime.date(1991, 10, 16),\n",
    " datetime.date(1992, 6, 25),\n",
    " datetime.date(1992, 8, 24),\n",
    " datetime.date(1992, 9, 29),\n",
    " datetime.date(1993, 6, 1),\n",
    " datetime.date(1994, 7, 3),\n",
    " datetime.date(1994, 8, 15),\n",
    " datetime.date(1994, 10, 2),\n",
    " datetime.date(1994, 11, 16),\n",
    " datetime.date(1995, 6, 5),\n",
    " datetime.date(1995, 7, 27),\n",
    " datetime.date(1995, 8, 2),\n",
    " datetime.date(1995, 8, 23),\n",
    " datetime.date(1995, 10, 4),\n",
    " datetime.date(1996, 7, 11),\n",
    " datetime.date(1996, 9, 2),\n",
    " datetime.date(1996, 10, 8),\n",
    " datetime.date(1996, 10, 18),\n",
    " datetime.date(1997, 7, 19),\n",
    " datetime.date(1998, 9, 3),\n",
    " datetime.date(1998, 9, 20),\n",
    " datetime.date(1998, 9, 25),\n",
    " datetime.date(1998, 11, 5),\n",
    " datetime.date(1999, 8, 29),\n",
    " datetime.date(1999, 9, 15),\n",
    " datetime.date(1999, 9, 21),\n",
    " datetime.date(1999, 10, 15),\n",
    " datetime.date(2000, 8, 23),\n",
    " datetime.date(2000, 9, 9),\n",
    " datetime.date(2000, 9, 18),\n",
    " datetime.date(2000, 9, 22),\n",
    " datetime.date(2000, 10, 3),\n",
    " datetime.date(2001, 6, 12),\n",
    " datetime.date(2001, 8, 6),\n",
    " datetime.date(2001, 9, 14),\n",
    " datetime.date(2001, 11, 5),\n",
    " datetime.date(2002, 7, 13),\n",
    " datetime.date(2002, 8, 4),\n",
    " datetime.date(2002, 9, 4),\n",
    " datetime.date(2002, 9, 14),\n",
    " datetime.date(2002, 9, 26),\n",
    " datetime.date(2002, 10, 3),\n",
    " datetime.date(2002, 10, 11),\n",
    " datetime.date(2003, 4, 20),\n",
    " datetime.date(2003, 6, 30),\n",
    " datetime.date(2003, 7, 25),\n",
    " datetime.date(2003, 8, 14),\n",
    " datetime.date(2003, 8, 30),\n",
    " datetime.date(2003, 9, 6),\n",
    " datetime.date(2003, 9, 13),\n",
    " datetime.date(2004, 8, 12),\n",
    " datetime.date(2004, 8, 13),\n",
    " datetime.date(2004, 9, 5),\n",
    " datetime.date(2004, 9, 13),\n",
    " datetime.date(2004, 9, 16),\n",
    " datetime.date(2004, 10, 10),\n",
    " datetime.date(2005, 6, 11),\n",
    " datetime.date(2005, 7, 6),\n",
    " datetime.date(2005, 7, 10),\n",
    " datetime.date(2005, 8, 25),\n",
    " datetime.date(2005, 9, 12),\n",
    " datetime.date(2005, 9, 20),\n",
    " datetime.date(2005, 10, 5),\n",
    " datetime.date(2005, 10, 24),\n",
    " datetime.date(2006, 6, 13),\n",
    " datetime.date(2006, 8, 30),\n",
    " datetime.date(2007, 5, 9),\n",
    " datetime.date(2007, 6, 2),\n",
    " datetime.date(2007, 8, 23),\n",
    " datetime.date(2007, 9, 8),\n",
    " datetime.date(2007, 9, 13),\n",
    " datetime.date(2007, 9, 22),\n",
    " datetime.date(2007, 10, 31),\n",
    " datetime.date(2007, 12, 13),\n",
    " datetime.date(2008, 7, 16),\n",
    " datetime.date(2008, 7, 22),\n",
    " datetime.date(2008, 8, 18),\n",
    " datetime.date(2008, 8, 31),\n",
    " datetime.date(2008, 9, 2),\n",
    " datetime.date(2009, 8, 16),\n",
    " datetime.date(2009, 8, 21),\n",
    " datetime.date(2009, 11, 9),\n",
    " datetime.date(2010, 6, 30),\n",
    " datetime.date(2010, 7, 23),\n",
    " datetime.date(2010, 8, 10),\n",
    " datetime.date(2010, 8, 31),\n",
    " datetime.date(2010, 9, 29),\n",
    " datetime.date(2011, 7, 18),\n",
    " datetime.date(2011, 8, 25),\n",
    " datetime.date(2011, 9, 3),\n",
    " datetime.date(2011, 10, 28),\n",
    " datetime.date(2011, 11, 9),\n",
    " datetime.date(2012, 5, 28),\n",
    " datetime.date(2012, 6, 23),\n",
    " datetime.date(2012, 8, 25),\n",
    " datetime.date(2012, 10, 25),\n",
    " datetime.date(2015, 8, 30),\n",
    " datetime.date(2015, 10, 1),\n",
    " datetime.date(2016, 6, 6),\n",
    " datetime.date(2016, 9, 1),\n",
    " datetime.date(2016, 9, 14),\n",
    " datetime.date(2016, 10, 7),\n",
    " datetime.date(2017, 6, 21),\n",
    " datetime.date(2017, 7, 31),\n",
    " datetime.date(2017, 9, 10),\n",
    " datetime.date(2017, 10, 29)]"
   ]
  },
  {
   "cell_type": "code",
   "execution_count": 6,
   "metadata": {},
   "outputs": [
    {
     "name": "stdout",
     "output_type": "stream",
     "text": [
      "10\n"
     ]
    }
   ],
   "source": [
    "'''looping over list of datetime objects'''\n",
    "\n",
    "# Counter for how many before June 1\n",
    "early_hurricanes = 0\n",
    "\n",
    "# We loop over the dates\n",
    "for hurricane in florida_hurricane_dates:\n",
    "  # Check if the month is before June (month number 6)\n",
    "  if hurricane.month < 6:\n",
    "    early_hurricanes = early_hurricanes + 1\n",
    "    \n",
    "print(early_hurricanes)"
   ]
  },
  {
   "cell_type": "code",
   "execution_count": 7,
   "metadata": {},
   "outputs": [
    {
     "name": "stdout",
     "output_type": "stream",
     "text": [
      "218\n"
     ]
    }
   ],
   "source": [
    "'''subtracting dates'''\n",
    "\n",
    "# Import date\n",
    "from datetime import date\n",
    "\n",
    "# Create a date object for May 9th, 2007\n",
    "start = date(2007, 5, 9)\n",
    "\n",
    "# Create a date object for December 13th, 2007\n",
    "end = date(2007, 12, 13)\n",
    "\n",
    "# Subtract the two dates and print the number of days\n",
    "print((end - start).days)"
   ]
  },
  {
   "cell_type": "code",
   "execution_count": 8,
   "metadata": {},
   "outputs": [
    {
     "name": "stdout",
     "output_type": "stream",
     "text": [
      "{1: 0, 2: 1, 3: 0, 4: 1, 5: 8, 6: 32, 7: 21, 8: 49, 9: 70, 10: 43, 11: 9, 12: 1}\n"
     ]
    }
   ],
   "source": [
    "'''counting days per calendar months'''\n",
    "# A dictionary to count hurricanes per calendar month\n",
    "hurricanes_each_month = {1: 0, 2: 0, 3: 0, 4: 0, 5: 0, 6:0,\n",
    "\t\t  \t\t\t\t 7: 0, 8:0, 9:0, 10:0, 11:0, 12:0}\n",
    "\n",
    "# Loop over all hurricanes\n",
    "for hurricane in florida_hurricane_dates:\n",
    "  # Pull out the month\n",
    "  month = hurricane.month\n",
    "  # Increment the count in your dictionary by one\n",
    "  hurricanes_each_month[month] +=1\n",
    "  \n",
    "print(hurricanes_each_month)"
   ]
  },
  {
   "cell_type": "code",
   "execution_count": null,
   "metadata": {},
   "outputs": [],
   "source": [
    "# Print the first and last scrambled dates\n",
    "print(dates_scrambled[0])\n",
    "print(dates_scrambled[-1])\n",
    "\n",
    "# Put the dates in order\n",
    "dates_ordered = sorted(dates_scrambled)\n",
    "\n",
    "# Print the first and last ordered dates\n",
    "print(dates_ordered[0])\n",
    "print(dates_ordered[-1])"
   ]
  },
  {
   "cell_type": "code",
   "execution_count": 10,
   "metadata": {},
   "outputs": [
    {
     "name": "stdout",
     "output_type": "stream",
     "text": [
      "ISO: Our earliest hurricane date: 1950-08-31\n",
      "US: Our earliest hurricane date: 08/31/1950\n"
     ]
    }
   ],
   "source": [
    "# Assign the earliest date to first_date\n",
    "first_date = min(florida_hurricane_dates)\n",
    "\n",
    "# Convert to ISO and US formats\n",
    "iso = \"Our earliest hurricane date: \" + first_date.isoformat()\n",
    "us = \"Our earliest hurricane date: \" + first_date.strftime(\"%m/%d/%Y\")\n",
    "\n",
    "print(\"ISO: \" + iso)\n",
    "print(\"US: \" + us)"
   ]
  },
  {
   "cell_type": "code",
   "execution_count": 11,
   "metadata": {},
   "outputs": [
    {
     "name": "stdout",
     "output_type": "stream",
     "text": [
      "1950-08\n"
     ]
    }
   ],
   "source": [
    "print(first_date.strftime('%Y-%m'))"
   ]
  },
  {
   "cell_type": "code",
   "execution_count": 12,
   "metadata": {},
   "outputs": [
    {
     "name": "stdout",
     "output_type": "stream",
     "text": [
      "August (1950)\n"
     ]
    }
   ],
   "source": [
    "print(first_date.strftime('%B (%Y)'))"
   ]
  },
  {
   "cell_type": "code",
   "execution_count": 14,
   "metadata": {},
   "outputs": [
    {
     "name": "stdout",
     "output_type": "stream",
     "text": [
      "1950-243\n"
     ]
    }
   ],
   "source": [
    "''''YYYY-DDD' where DDD is the day of the year.'''\n",
    "\n",
    "print(first_date.strftime('%Y-%j'))"
   ]
  },
  {
   "cell_type": "markdown",
   "metadata": {},
   "source": [
    "# 2. Combining Dates and Time "
   ]
  },
  {
   "cell_type": "code",
   "execution_count": 17,
   "metadata": {},
   "outputs": [
    {
     "name": "stdout",
     "output_type": "stream",
     "text": [
      "2017-10-01T15:26:26\n"
     ]
    }
   ],
   "source": [
    "# Import datetime\n",
    "from datetime import datetime\n",
    "\n",
    "# Create a datetime object\n",
    "dt = datetime(2017, 10, 1, 15, 26, 26)\n",
    "\n",
    "# Print the results in ISO 8601 format\n",
    "print(dt.isoformat())"
   ]
  },
  {
   "cell_type": "code",
   "execution_count": 18,
   "metadata": {},
   "outputs": [
    {
     "name": "stdout",
     "output_type": "stream",
     "text": [
      "1917-10-01 15:26:26\n"
     ]
    }
   ],
   "source": [
    "dt_old = dt.replace(year=1917)\n",
    "\n",
    "# Print the results in ISO 8601 format\n",
    "print(dt_old)"
   ]
  },
  {
   "cell_type": "code",
   "execution_count": 21,
   "metadata": {
    "collapsed": true
   },
   "outputs": [
    {
     "data": {
      "text/html": [
       "<div>\n",
       "<style scoped>\n",
       "    .dataframe tbody tr th:only-of-type {\n",
       "        vertical-align: middle;\n",
       "    }\n",
       "\n",
       "    .dataframe tbody tr th {\n",
       "        vertical-align: top;\n",
       "    }\n",
       "\n",
       "    .dataframe thead th {\n",
       "        text-align: right;\n",
       "    }\n",
       "</style>\n",
       "<table border=\"1\" class=\"dataframe\">\n",
       "  <thead>\n",
       "    <tr style=\"text-align: right;\">\n",
       "      <th></th>\n",
       "      <th>Start date</th>\n",
       "      <th>End date</th>\n",
       "      <th>Start station number</th>\n",
       "      <th>Start station</th>\n",
       "      <th>End station number</th>\n",
       "      <th>End station</th>\n",
       "      <th>Bike number</th>\n",
       "      <th>Member type</th>\n",
       "    </tr>\n",
       "  </thead>\n",
       "  <tbody>\n",
       "    <tr>\n",
       "      <th>0</th>\n",
       "      <td>2017-10-01 15:23:25</td>\n",
       "      <td>2017-10-01 15:26:26</td>\n",
       "      <td>31038</td>\n",
       "      <td>Glebe Rd &amp; 11th St N</td>\n",
       "      <td>31036</td>\n",
       "      <td>George Mason Dr &amp; Wilson Blvd</td>\n",
       "      <td>W20529</td>\n",
       "      <td>Member</td>\n",
       "    </tr>\n",
       "    <tr>\n",
       "      <th>1</th>\n",
       "      <td>2017-10-01 15:42:57</td>\n",
       "      <td>2017-10-01 17:49:59</td>\n",
       "      <td>31036</td>\n",
       "      <td>George Mason Dr &amp; Wilson Blvd</td>\n",
       "      <td>31036</td>\n",
       "      <td>George Mason Dr &amp; Wilson Blvd</td>\n",
       "      <td>W20529</td>\n",
       "      <td>Casual</td>\n",
       "    </tr>\n",
       "    <tr>\n",
       "      <th>2</th>\n",
       "      <td>2017-10-02 06:37:10</td>\n",
       "      <td>2017-10-02 06:42:53</td>\n",
       "      <td>31036</td>\n",
       "      <td>George Mason Dr &amp; Wilson Blvd</td>\n",
       "      <td>31037</td>\n",
       "      <td>Ballston Metro / N Stuart &amp; 9th St N</td>\n",
       "      <td>W20529</td>\n",
       "      <td>Member</td>\n",
       "    </tr>\n",
       "    <tr>\n",
       "      <th>3</th>\n",
       "      <td>2017-10-02 08:56:45</td>\n",
       "      <td>2017-10-02 09:18:03</td>\n",
       "      <td>31037</td>\n",
       "      <td>Ballston Metro / N Stuart &amp; 9th St N</td>\n",
       "      <td>31295</td>\n",
       "      <td>Potomac &amp; M St NW</td>\n",
       "      <td>W20529</td>\n",
       "      <td>Member</td>\n",
       "    </tr>\n",
       "    <tr>\n",
       "      <th>4</th>\n",
       "      <td>2017-10-02 18:23:48</td>\n",
       "      <td>2017-10-02 18:45:05</td>\n",
       "      <td>31295</td>\n",
       "      <td>Potomac &amp; M St NW</td>\n",
       "      <td>31230</td>\n",
       "      <td>Metro Center / 12th &amp; G St NW</td>\n",
       "      <td>W20529</td>\n",
       "      <td>Member</td>\n",
       "    </tr>\n",
       "    <tr>\n",
       "      <th>5</th>\n",
       "      <td>2017-10-02 18:48:08</td>\n",
       "      <td>2017-10-02 19:10:54</td>\n",
       "      <td>31230</td>\n",
       "      <td>Metro Center / 12th &amp; G St NW</td>\n",
       "      <td>31645</td>\n",
       "      <td>6th &amp; K St NE</td>\n",
       "      <td>W20529</td>\n",
       "      <td>Member</td>\n",
       "    </tr>\n",
       "    <tr>\n",
       "      <th>6</th>\n",
       "      <td>2017-10-02 19:18:10</td>\n",
       "      <td>2017-10-02 19:31:45</td>\n",
       "      <td>31645</td>\n",
       "      <td>6th &amp; K St NE</td>\n",
       "      <td>31262</td>\n",
       "      <td>11th &amp; F St NW</td>\n",
       "      <td>W20529</td>\n",
       "      <td>Member</td>\n",
       "    </tr>\n",
       "    <tr>\n",
       "      <th>7</th>\n",
       "      <td>2017-10-02 19:37:32</td>\n",
       "      <td>2017-10-02 19:46:37</td>\n",
       "      <td>31262</td>\n",
       "      <td>11th &amp; F St NW</td>\n",
       "      <td>31268</td>\n",
       "      <td>12th &amp; U St NW</td>\n",
       "      <td>W20529</td>\n",
       "      <td>Member</td>\n",
       "    </tr>\n",
       "    <tr>\n",
       "      <th>8</th>\n",
       "      <td>2017-10-03 08:24:16</td>\n",
       "      <td>2017-10-03 08:32:27</td>\n",
       "      <td>31268</td>\n",
       "      <td>12th &amp; U St NW</td>\n",
       "      <td>31267</td>\n",
       "      <td>17th St &amp; Massachusetts Ave NW</td>\n",
       "      <td>W20529</td>\n",
       "      <td>Member</td>\n",
       "    </tr>\n",
       "    <tr>\n",
       "      <th>9</th>\n",
       "      <td>2017-10-03 18:17:07</td>\n",
       "      <td>2017-10-03 18:27:46</td>\n",
       "      <td>31303</td>\n",
       "      <td>Tenleytown / Wisconsin Ave &amp; Albemarle St NW</td>\n",
       "      <td>31320</td>\n",
       "      <td>Nebraska Ave/AU East Campus</td>\n",
       "      <td>W20529</td>\n",
       "      <td>Member</td>\n",
       "    </tr>\n",
       "    <tr>\n",
       "      <th>10</th>\n",
       "      <td>2017-10-03 19:24:10</td>\n",
       "      <td>2017-10-03 19:52:08</td>\n",
       "      <td>31320</td>\n",
       "      <td>Nebraska Ave/AU East Campus</td>\n",
       "      <td>31281</td>\n",
       "      <td>8th &amp; O St NW</td>\n",
       "      <td>W20529</td>\n",
       "      <td>Member</td>\n",
       "    </tr>\n",
       "    <tr>\n",
       "      <th>11</th>\n",
       "      <td>2017-10-03 20:17:06</td>\n",
       "      <td>2017-10-03 20:23:52</td>\n",
       "      <td>31281</td>\n",
       "      <td>8th &amp; O St NW</td>\n",
       "      <td>31241</td>\n",
       "      <td>Thomas Circle</td>\n",
       "      <td>W20529</td>\n",
       "      <td>Casual</td>\n",
       "    </tr>\n",
       "    <tr>\n",
       "      <th>12</th>\n",
       "      <td>2017-10-03 20:45:21</td>\n",
       "      <td>2017-10-03 20:57:10</td>\n",
       "      <td>31241</td>\n",
       "      <td>Thomas Circle</td>\n",
       "      <td>31636</td>\n",
       "      <td>New Jersey Ave &amp; N St NW/Dunbar HS</td>\n",
       "      <td>W20529</td>\n",
       "      <td>Member</td>\n",
       "    </tr>\n",
       "    <tr>\n",
       "      <th>13</th>\n",
       "      <td>2017-10-04 07:04:57</td>\n",
       "      <td>2017-10-04 07:13:31</td>\n",
       "      <td>31636</td>\n",
       "      <td>New Jersey Ave &amp; N St NW/Dunbar HS</td>\n",
       "      <td>31623</td>\n",
       "      <td>Columbus Circle / Union Station</td>\n",
       "      <td>W20529</td>\n",
       "      <td>Member</td>\n",
       "    </tr>\n",
       "    <tr>\n",
       "      <th>14</th>\n",
       "      <td>2017-10-04 07:13:42</td>\n",
       "      <td>2017-10-04 07:21:54</td>\n",
       "      <td>31623</td>\n",
       "      <td>Columbus Circle / Union Station</td>\n",
       "      <td>31272</td>\n",
       "      <td>Washington &amp; Independence Ave SW/HHS</td>\n",
       "      <td>W20529</td>\n",
       "      <td>Member</td>\n",
       "    </tr>\n",
       "    <tr>\n",
       "      <th>15</th>\n",
       "      <td>2017-10-04 14:22:12</td>\n",
       "      <td>2017-10-04 14:50:00</td>\n",
       "      <td>31272</td>\n",
       "      <td>Washington &amp; Independence Ave SW/HHS</td>\n",
       "      <td>31247</td>\n",
       "      <td>Jefferson Dr &amp; 14th St SW</td>\n",
       "      <td>W20529</td>\n",
       "      <td>Casual</td>\n",
       "    </tr>\n",
       "    <tr>\n",
       "      <th>16</th>\n",
       "      <td>2017-10-04 15:07:27</td>\n",
       "      <td>2017-10-04 15:44:49</td>\n",
       "      <td>31247</td>\n",
       "      <td>Jefferson Dr &amp; 14th St SW</td>\n",
       "      <td>31240</td>\n",
       "      <td>Ohio Dr &amp; West Basin Dr SW / MLK &amp; FDR Memorials</td>\n",
       "      <td>W20529</td>\n",
       "      <td>Casual</td>\n",
       "    </tr>\n",
       "    <tr>\n",
       "      <th>17</th>\n",
       "      <td>2017-10-04 15:46:41</td>\n",
       "      <td>2017-10-04 16:32:33</td>\n",
       "      <td>31240</td>\n",
       "      <td>Ohio Dr &amp; West Basin Dr SW / MLK &amp; FDR Memorials</td>\n",
       "      <td>31277</td>\n",
       "      <td>17th &amp; G St NW</td>\n",
       "      <td>W20529</td>\n",
       "      <td>Casual</td>\n",
       "    </tr>\n",
       "    <tr>\n",
       "      <th>18</th>\n",
       "      <td>2017-10-04 16:34:44</td>\n",
       "      <td>2017-10-04 16:46:59</td>\n",
       "      <td>31277</td>\n",
       "      <td>17th &amp; G St NW</td>\n",
       "      <td>31200</td>\n",
       "      <td>Massachusetts Ave &amp; Dupont Circle NW</td>\n",
       "      <td>W20529</td>\n",
       "      <td>Casual</td>\n",
       "    </tr>\n",
       "    <tr>\n",
       "      <th>19</th>\n",
       "      <td>2017-10-04 17:26:06</td>\n",
       "      <td>2017-10-04 17:31:36</td>\n",
       "      <td>31200</td>\n",
       "      <td>Massachusetts Ave &amp; Dupont Circle NW</td>\n",
       "      <td>31241</td>\n",
       "      <td>Thomas Circle</td>\n",
       "      <td>W20529</td>\n",
       "      <td>Member</td>\n",
       "    </tr>\n",
       "    <tr>\n",
       "      <th>20</th>\n",
       "      <td>2017-10-04 17:42:03</td>\n",
       "      <td>2017-10-04 17:50:41</td>\n",
       "      <td>31241</td>\n",
       "      <td>Thomas Circle</td>\n",
       "      <td>31278</td>\n",
       "      <td>18th &amp; R St NW</td>\n",
       "      <td>W20529</td>\n",
       "      <td>Member</td>\n",
       "    </tr>\n",
       "    <tr>\n",
       "      <th>21</th>\n",
       "      <td>2017-10-05 07:49:02</td>\n",
       "      <td>2017-10-05 08:12:55</td>\n",
       "      <td>31406</td>\n",
       "      <td>14th &amp; Upshur St NW</td>\n",
       "      <td>31238</td>\n",
       "      <td>14th &amp; G St NW</td>\n",
       "      <td>W20529</td>\n",
       "      <td>Member</td>\n",
       "    </tr>\n",
       "    <tr>\n",
       "      <th>22</th>\n",
       "      <td>2017-10-05 08:26:21</td>\n",
       "      <td>2017-10-05 08:29:45</td>\n",
       "      <td>31238</td>\n",
       "      <td>14th &amp; G St NW</td>\n",
       "      <td>31228</td>\n",
       "      <td>8th &amp; H St NW</td>\n",
       "      <td>W20529</td>\n",
       "      <td>Member</td>\n",
       "    </tr>\n",
       "    <tr>\n",
       "      <th>23</th>\n",
       "      <td>2017-10-05 08:33:27</td>\n",
       "      <td>2017-10-05 08:38:31</td>\n",
       "      <td>31228</td>\n",
       "      <td>8th &amp; H St NW</td>\n",
       "      <td>31219</td>\n",
       "      <td>10th St &amp; Constitution Ave NW</td>\n",
       "      <td>W20529</td>\n",
       "      <td>Member</td>\n",
       "    </tr>\n",
       "    <tr>\n",
       "      <th>24</th>\n",
       "      <td>2017-10-05 16:35:35</td>\n",
       "      <td>2017-10-05 16:51:52</td>\n",
       "      <td>31219</td>\n",
       "      <td>10th St &amp; Constitution Ave NW</td>\n",
       "      <td>31624</td>\n",
       "      <td>North Capitol St &amp; F St NW</td>\n",
       "      <td>W20529</td>\n",
       "      <td>Member</td>\n",
       "    </tr>\n",
       "    <tr>\n",
       "      <th>25</th>\n",
       "      <td>2017-10-05 17:53:31</td>\n",
       "      <td>2017-10-05 18:16:50</td>\n",
       "      <td>31624</td>\n",
       "      <td>North Capitol St &amp; F St NW</td>\n",
       "      <td>31051</td>\n",
       "      <td>Arlington Blvd &amp; N Queen St</td>\n",
       "      <td>W20529</td>\n",
       "      <td>Member</td>\n",
       "    </tr>\n",
       "    <tr>\n",
       "      <th>26</th>\n",
       "      <td>2017-10-06 08:17:17</td>\n",
       "      <td>2017-10-06 08:38:01</td>\n",
       "      <td>31051</td>\n",
       "      <td>Arlington Blvd &amp; N Queen St</td>\n",
       "      <td>31271</td>\n",
       "      <td>Constitution Ave &amp; 2nd St NW/DOL</td>\n",
       "      <td>W20529</td>\n",
       "      <td>Member</td>\n",
       "    </tr>\n",
       "    <tr>\n",
       "      <th>27</th>\n",
       "      <td>2017-10-06 11:39:40</td>\n",
       "      <td>2017-10-06 11:50:38</td>\n",
       "      <td>31271</td>\n",
       "      <td>Constitution Ave &amp; 2nd St NW/DOL</td>\n",
       "      <td>31503</td>\n",
       "      <td>Florida Ave &amp; R St NW</td>\n",
       "      <td>W20529</td>\n",
       "      <td>Member</td>\n",
       "    </tr>\n",
       "    <tr>\n",
       "      <th>28</th>\n",
       "      <td>2017-10-06 12:59:54</td>\n",
       "      <td>2017-10-06 13:13:14</td>\n",
       "      <td>31503</td>\n",
       "      <td>Florida Ave &amp; R St NW</td>\n",
       "      <td>31214</td>\n",
       "      <td>17th &amp; Corcoran St NW</td>\n",
       "      <td>W20529</td>\n",
       "      <td>Member</td>\n",
       "    </tr>\n",
       "    <tr>\n",
       "      <th>29</th>\n",
       "      <td>2017-10-06 13:43:05</td>\n",
       "      <td>2017-10-06 14:14:56</td>\n",
       "      <td>31214</td>\n",
       "      <td>17th &amp; Corcoran St NW</td>\n",
       "      <td>31243</td>\n",
       "      <td>4th &amp; C St SW</td>\n",
       "      <td>W20529</td>\n",
       "      <td>Member</td>\n",
       "    </tr>\n",
       "    <tr>\n",
       "      <th>...</th>\n",
       "      <td>...</td>\n",
       "      <td>...</td>\n",
       "      <td>...</td>\n",
       "      <td>...</td>\n",
       "      <td>...</td>\n",
       "      <td>...</td>\n",
       "      <td>...</td>\n",
       "      <td>...</td>\n",
       "    </tr>\n",
       "    <tr>\n",
       "      <th>260</th>\n",
       "      <td>2017-12-18 08:02:36</td>\n",
       "      <td>2017-12-18 08:07:34</td>\n",
       "      <td>31282</td>\n",
       "      <td>16th &amp; R St NW</td>\n",
       "      <td>31276</td>\n",
       "      <td>15th &amp; L St NW</td>\n",
       "      <td>W20529</td>\n",
       "      <td>Member</td>\n",
       "    </tr>\n",
       "    <tr>\n",
       "      <th>261</th>\n",
       "      <td>2017-12-18 16:03:00</td>\n",
       "      <td>2017-12-18 16:09:20</td>\n",
       "      <td>31223</td>\n",
       "      <td>Convention Center / 7th &amp; M St NW</td>\n",
       "      <td>31203</td>\n",
       "      <td>14th &amp; Rhode Island Ave NW</td>\n",
       "      <td>W20529</td>\n",
       "      <td>Member</td>\n",
       "    </tr>\n",
       "    <tr>\n",
       "      <th>262</th>\n",
       "      <td>2017-12-18 16:30:07</td>\n",
       "      <td>2017-12-18 16:53:12</td>\n",
       "      <td>31203</td>\n",
       "      <td>14th &amp; Rhode Island Ave NW</td>\n",
       "      <td>31638</td>\n",
       "      <td>1st &amp; H St NW</td>\n",
       "      <td>W20529</td>\n",
       "      <td>Member</td>\n",
       "    </tr>\n",
       "    <tr>\n",
       "      <th>263</th>\n",
       "      <td>2017-12-18 19:18:23</td>\n",
       "      <td>2017-12-18 19:22:08</td>\n",
       "      <td>31638</td>\n",
       "      <td>1st &amp; H St NW</td>\n",
       "      <td>31265</td>\n",
       "      <td>5th St &amp; Massachusetts Ave NW</td>\n",
       "      <td>W20529</td>\n",
       "      <td>Member</td>\n",
       "    </tr>\n",
       "    <tr>\n",
       "      <th>264</th>\n",
       "      <td>2017-12-18 20:14:46</td>\n",
       "      <td>2017-12-18 20:17:47</td>\n",
       "      <td>31265</td>\n",
       "      <td>5th St &amp; Massachusetts Ave NW</td>\n",
       "      <td>31638</td>\n",
       "      <td>1st &amp; H St NW</td>\n",
       "      <td>W20529</td>\n",
       "      <td>Member</td>\n",
       "    </tr>\n",
       "    <tr>\n",
       "      <th>265</th>\n",
       "      <td>2017-12-19 19:14:08</td>\n",
       "      <td>2017-12-19 19:23:49</td>\n",
       "      <td>31638</td>\n",
       "      <td>1st &amp; H St NW</td>\n",
       "      <td>31512</td>\n",
       "      <td>Neal St &amp; Trinidad Ave NE</td>\n",
       "      <td>W20529</td>\n",
       "      <td>Member</td>\n",
       "    </tr>\n",
       "    <tr>\n",
       "      <th>266</th>\n",
       "      <td>2017-12-19 19:39:36</td>\n",
       "      <td>2017-12-19 19:43:46</td>\n",
       "      <td>31512</td>\n",
       "      <td>Neal St &amp; Trinidad Ave NE</td>\n",
       "      <td>31611</td>\n",
       "      <td>13th &amp; H St NE</td>\n",
       "      <td>W20529</td>\n",
       "      <td>Member</td>\n",
       "    </tr>\n",
       "    <tr>\n",
       "      <th>267</th>\n",
       "      <td>2017-12-20 08:05:14</td>\n",
       "      <td>2017-12-20 08:10:46</td>\n",
       "      <td>31611</td>\n",
       "      <td>13th &amp; H St NE</td>\n",
       "      <td>31623</td>\n",
       "      <td>Columbus Circle / Union Station</td>\n",
       "      <td>W20529</td>\n",
       "      <td>Member</td>\n",
       "    </tr>\n",
       "    <tr>\n",
       "      <th>268</th>\n",
       "      <td>2017-12-20 08:15:45</td>\n",
       "      <td>2017-12-20 08:29:50</td>\n",
       "      <td>31623</td>\n",
       "      <td>Columbus Circle / Union Station</td>\n",
       "      <td>31227</td>\n",
       "      <td>13th St &amp; New York Ave NW</td>\n",
       "      <td>W20529</td>\n",
       "      <td>Member</td>\n",
       "    </tr>\n",
       "    <tr>\n",
       "      <th>269</th>\n",
       "      <td>2017-12-20 08:33:32</td>\n",
       "      <td>2017-12-20 08:38:09</td>\n",
       "      <td>31227</td>\n",
       "      <td>13th St &amp; New York Ave NW</td>\n",
       "      <td>31277</td>\n",
       "      <td>17th &amp; G St NW</td>\n",
       "      <td>W20529</td>\n",
       "      <td>Member</td>\n",
       "    </tr>\n",
       "    <tr>\n",
       "      <th>270</th>\n",
       "      <td>2017-12-20 13:43:36</td>\n",
       "      <td>2017-12-20 13:54:39</td>\n",
       "      <td>31400</td>\n",
       "      <td>Georgia &amp; New Hampshire Ave NW</td>\n",
       "      <td>31296</td>\n",
       "      <td>Columbia &amp; Ontario Rd NW</td>\n",
       "      <td>W20529</td>\n",
       "      <td>Member</td>\n",
       "    </tr>\n",
       "    <tr>\n",
       "      <th>271</th>\n",
       "      <td>2017-12-20 18:57:53</td>\n",
       "      <td>2017-12-20 19:06:54</td>\n",
       "      <td>31296</td>\n",
       "      <td>Columbia &amp; Ontario Rd NW</td>\n",
       "      <td>31401</td>\n",
       "      <td>14th St &amp; Spring Rd NW</td>\n",
       "      <td>W20529</td>\n",
       "      <td>Member</td>\n",
       "    </tr>\n",
       "    <tr>\n",
       "      <th>272</th>\n",
       "      <td>2017-12-21 07:21:11</td>\n",
       "      <td>2017-12-21 07:32:03</td>\n",
       "      <td>31401</td>\n",
       "      <td>14th St &amp; Spring Rd NW</td>\n",
       "      <td>31286</td>\n",
       "      <td>11th &amp; O St NW</td>\n",
       "      <td>W20529</td>\n",
       "      <td>Member</td>\n",
       "    </tr>\n",
       "    <tr>\n",
       "      <th>273</th>\n",
       "      <td>2017-12-21 08:01:58</td>\n",
       "      <td>2017-12-21 08:06:15</td>\n",
       "      <td>31286</td>\n",
       "      <td>11th &amp; O St NW</td>\n",
       "      <td>31230</td>\n",
       "      <td>Metro Center / 12th &amp; G St NW</td>\n",
       "      <td>W20529</td>\n",
       "      <td>Member</td>\n",
       "    </tr>\n",
       "    <tr>\n",
       "      <th>274</th>\n",
       "      <td>2017-12-21 13:20:54</td>\n",
       "      <td>2017-12-21 13:33:49</td>\n",
       "      <td>31230</td>\n",
       "      <td>Metro Center / 12th &amp; G St NW</td>\n",
       "      <td>31616</td>\n",
       "      <td>3rd &amp; H St NE</td>\n",
       "      <td>W20529</td>\n",
       "      <td>Member</td>\n",
       "    </tr>\n",
       "    <tr>\n",
       "      <th>275</th>\n",
       "      <td>2017-12-21 15:26:08</td>\n",
       "      <td>2017-12-21 15:34:27</td>\n",
       "      <td>31616</td>\n",
       "      <td>3rd &amp; H St NE</td>\n",
       "      <td>31228</td>\n",
       "      <td>8th &amp; H St NW</td>\n",
       "      <td>W20529</td>\n",
       "      <td>Member</td>\n",
       "    </tr>\n",
       "    <tr>\n",
       "      <th>276</th>\n",
       "      <td>2017-12-21 18:09:46</td>\n",
       "      <td>2017-12-21 18:38:50</td>\n",
       "      <td>31228</td>\n",
       "      <td>8th &amp; H St NW</td>\n",
       "      <td>31225</td>\n",
       "      <td>C &amp; O Canal &amp; Wisconsin Ave NW</td>\n",
       "      <td>W20529</td>\n",
       "      <td>Member</td>\n",
       "    </tr>\n",
       "    <tr>\n",
       "      <th>277</th>\n",
       "      <td>2017-12-22 16:14:21</td>\n",
       "      <td>2017-12-22 16:21:46</td>\n",
       "      <td>31225</td>\n",
       "      <td>C &amp; O Canal &amp; Wisconsin Ave NW</td>\n",
       "      <td>31014</td>\n",
       "      <td>Lynn &amp; 19th St North</td>\n",
       "      <td>W20529</td>\n",
       "      <td>Member</td>\n",
       "    </tr>\n",
       "    <tr>\n",
       "      <th>278</th>\n",
       "      <td>2017-12-22 16:29:17</td>\n",
       "      <td>2017-12-22 16:34:14</td>\n",
       "      <td>31014</td>\n",
       "      <td>Lynn &amp; 19th St North</td>\n",
       "      <td>31077</td>\n",
       "      <td>Iwo Jima Memorial/N Meade &amp; 14th St N</td>\n",
       "      <td>W20529</td>\n",
       "      <td>Member</td>\n",
       "    </tr>\n",
       "    <tr>\n",
       "      <th>279</th>\n",
       "      <td>2017-12-25 12:49:51</td>\n",
       "      <td>2017-12-25 13:18:27</td>\n",
       "      <td>31077</td>\n",
       "      <td>Iwo Jima Memorial/N Meade &amp; 14th St N</td>\n",
       "      <td>31247</td>\n",
       "      <td>Jefferson Dr &amp; 14th St SW</td>\n",
       "      <td>W20529</td>\n",
       "      <td>Casual</td>\n",
       "    </tr>\n",
       "    <tr>\n",
       "      <th>280</th>\n",
       "      <td>2017-12-25 13:46:44</td>\n",
       "      <td>2017-12-25 14:20:50</td>\n",
       "      <td>31247</td>\n",
       "      <td>Jefferson Dr &amp; 14th St SW</td>\n",
       "      <td>31247</td>\n",
       "      <td>Jefferson Dr &amp; 14th St SW</td>\n",
       "      <td>W20529</td>\n",
       "      <td>Casual</td>\n",
       "    </tr>\n",
       "    <tr>\n",
       "      <th>281</th>\n",
       "      <td>2017-12-26 10:40:16</td>\n",
       "      <td>2017-12-26 10:53:45</td>\n",
       "      <td>31123</td>\n",
       "      <td>14th &amp; Girard St NW</td>\n",
       "      <td>31603</td>\n",
       "      <td>1st &amp; M St NE</td>\n",
       "      <td>W20529</td>\n",
       "      <td>Member</td>\n",
       "    </tr>\n",
       "    <tr>\n",
       "      <th>282</th>\n",
       "      <td>2017-12-27 16:56:12</td>\n",
       "      <td>2017-12-27 17:17:39</td>\n",
       "      <td>31603</td>\n",
       "      <td>1st &amp; M St NE</td>\n",
       "      <td>31101</td>\n",
       "      <td>14th &amp; V St NW</td>\n",
       "      <td>W20529</td>\n",
       "      <td>Member</td>\n",
       "    </tr>\n",
       "    <tr>\n",
       "      <th>283</th>\n",
       "      <td>2017-12-29 06:02:34</td>\n",
       "      <td>2017-12-29 06:12:30</td>\n",
       "      <td>31113</td>\n",
       "      <td>Columbia Rd &amp; Belmont St NW</td>\n",
       "      <td>31298</td>\n",
       "      <td>15th &amp; M St NW</td>\n",
       "      <td>W20529</td>\n",
       "      <td>Member</td>\n",
       "    </tr>\n",
       "    <tr>\n",
       "      <th>284</th>\n",
       "      <td>2017-12-29 12:21:03</td>\n",
       "      <td>2017-12-29 12:46:16</td>\n",
       "      <td>31298</td>\n",
       "      <td>15th &amp; M St NW</td>\n",
       "      <td>31242</td>\n",
       "      <td>18th St &amp; Pennsylvania Ave NW</td>\n",
       "      <td>W20529</td>\n",
       "      <td>Casual</td>\n",
       "    </tr>\n",
       "    <tr>\n",
       "      <th>285</th>\n",
       "      <td>2017-12-29 14:32:55</td>\n",
       "      <td>2017-12-29 14:43:46</td>\n",
       "      <td>31242</td>\n",
       "      <td>18th St &amp; Pennsylvania Ave NW</td>\n",
       "      <td>31265</td>\n",
       "      <td>5th St &amp; Massachusetts Ave NW</td>\n",
       "      <td>W20529</td>\n",
       "      <td>Member</td>\n",
       "    </tr>\n",
       "    <tr>\n",
       "      <th>286</th>\n",
       "      <td>2017-12-29 15:08:26</td>\n",
       "      <td>2017-12-29 15:18:51</td>\n",
       "      <td>31265</td>\n",
       "      <td>5th St &amp; Massachusetts Ave NW</td>\n",
       "      <td>31613</td>\n",
       "      <td>Eastern Market Metro / Pennsylvania Ave &amp; 7th ...</td>\n",
       "      <td>W20529</td>\n",
       "      <td>Casual</td>\n",
       "    </tr>\n",
       "    <tr>\n",
       "      <th>287</th>\n",
       "      <td>2017-12-29 20:33:34</td>\n",
       "      <td>2017-12-29 20:38:13</td>\n",
       "      <td>31613</td>\n",
       "      <td>Eastern Market Metro / Pennsylvania Ave &amp; 7th ...</td>\n",
       "      <td>31618</td>\n",
       "      <td>4th &amp; East Capitol St NE</td>\n",
       "      <td>W20529</td>\n",
       "      <td>Member</td>\n",
       "    </tr>\n",
       "    <tr>\n",
       "      <th>288</th>\n",
       "      <td>2017-12-30 13:51:03</td>\n",
       "      <td>2017-12-30 13:54:33</td>\n",
       "      <td>31618</td>\n",
       "      <td>4th &amp; East Capitol St NE</td>\n",
       "      <td>31610</td>\n",
       "      <td>Eastern Market / 7th &amp; North Carolina Ave SE</td>\n",
       "      <td>W20529</td>\n",
       "      <td>Member</td>\n",
       "    </tr>\n",
       "    <tr>\n",
       "      <th>289</th>\n",
       "      <td>2017-12-30 15:09:03</td>\n",
       "      <td>2017-12-30 15:19:13</td>\n",
       "      <td>31610</td>\n",
       "      <td>Eastern Market / 7th &amp; North Carolina Ave SE</td>\n",
       "      <td>31272</td>\n",
       "      <td>Washington &amp; Independence Ave SW/HHS</td>\n",
       "      <td>W20529</td>\n",
       "      <td>Member</td>\n",
       "    </tr>\n",
       "  </tbody>\n",
       "</table>\n",
       "<p>290 rows × 8 columns</p>\n",
       "</div>"
      ],
      "text/plain": [
       "              Start date             End date  Start station number  \\\n",
       "0    2017-10-01 15:23:25  2017-10-01 15:26:26                 31038   \n",
       "1    2017-10-01 15:42:57  2017-10-01 17:49:59                 31036   \n",
       "2    2017-10-02 06:37:10  2017-10-02 06:42:53                 31036   \n",
       "3    2017-10-02 08:56:45  2017-10-02 09:18:03                 31037   \n",
       "4    2017-10-02 18:23:48  2017-10-02 18:45:05                 31295   \n",
       "5    2017-10-02 18:48:08  2017-10-02 19:10:54                 31230   \n",
       "6    2017-10-02 19:18:10  2017-10-02 19:31:45                 31645   \n",
       "7    2017-10-02 19:37:32  2017-10-02 19:46:37                 31262   \n",
       "8    2017-10-03 08:24:16  2017-10-03 08:32:27                 31268   \n",
       "9    2017-10-03 18:17:07  2017-10-03 18:27:46                 31303   \n",
       "10   2017-10-03 19:24:10  2017-10-03 19:52:08                 31320   \n",
       "11   2017-10-03 20:17:06  2017-10-03 20:23:52                 31281   \n",
       "12   2017-10-03 20:45:21  2017-10-03 20:57:10                 31241   \n",
       "13   2017-10-04 07:04:57  2017-10-04 07:13:31                 31636   \n",
       "14   2017-10-04 07:13:42  2017-10-04 07:21:54                 31623   \n",
       "15   2017-10-04 14:22:12  2017-10-04 14:50:00                 31272   \n",
       "16   2017-10-04 15:07:27  2017-10-04 15:44:49                 31247   \n",
       "17   2017-10-04 15:46:41  2017-10-04 16:32:33                 31240   \n",
       "18   2017-10-04 16:34:44  2017-10-04 16:46:59                 31277   \n",
       "19   2017-10-04 17:26:06  2017-10-04 17:31:36                 31200   \n",
       "20   2017-10-04 17:42:03  2017-10-04 17:50:41                 31241   \n",
       "21   2017-10-05 07:49:02  2017-10-05 08:12:55                 31406   \n",
       "22   2017-10-05 08:26:21  2017-10-05 08:29:45                 31238   \n",
       "23   2017-10-05 08:33:27  2017-10-05 08:38:31                 31228   \n",
       "24   2017-10-05 16:35:35  2017-10-05 16:51:52                 31219   \n",
       "25   2017-10-05 17:53:31  2017-10-05 18:16:50                 31624   \n",
       "26   2017-10-06 08:17:17  2017-10-06 08:38:01                 31051   \n",
       "27   2017-10-06 11:39:40  2017-10-06 11:50:38                 31271   \n",
       "28   2017-10-06 12:59:54  2017-10-06 13:13:14                 31503   \n",
       "29   2017-10-06 13:43:05  2017-10-06 14:14:56                 31214   \n",
       "..                   ...                  ...                   ...   \n",
       "260  2017-12-18 08:02:36  2017-12-18 08:07:34                 31282   \n",
       "261  2017-12-18 16:03:00  2017-12-18 16:09:20                 31223   \n",
       "262  2017-12-18 16:30:07  2017-12-18 16:53:12                 31203   \n",
       "263  2017-12-18 19:18:23  2017-12-18 19:22:08                 31638   \n",
       "264  2017-12-18 20:14:46  2017-12-18 20:17:47                 31265   \n",
       "265  2017-12-19 19:14:08  2017-12-19 19:23:49                 31638   \n",
       "266  2017-12-19 19:39:36  2017-12-19 19:43:46                 31512   \n",
       "267  2017-12-20 08:05:14  2017-12-20 08:10:46                 31611   \n",
       "268  2017-12-20 08:15:45  2017-12-20 08:29:50                 31623   \n",
       "269  2017-12-20 08:33:32  2017-12-20 08:38:09                 31227   \n",
       "270  2017-12-20 13:43:36  2017-12-20 13:54:39                 31400   \n",
       "271  2017-12-20 18:57:53  2017-12-20 19:06:54                 31296   \n",
       "272  2017-12-21 07:21:11  2017-12-21 07:32:03                 31401   \n",
       "273  2017-12-21 08:01:58  2017-12-21 08:06:15                 31286   \n",
       "274  2017-12-21 13:20:54  2017-12-21 13:33:49                 31230   \n",
       "275  2017-12-21 15:26:08  2017-12-21 15:34:27                 31616   \n",
       "276  2017-12-21 18:09:46  2017-12-21 18:38:50                 31228   \n",
       "277  2017-12-22 16:14:21  2017-12-22 16:21:46                 31225   \n",
       "278  2017-12-22 16:29:17  2017-12-22 16:34:14                 31014   \n",
       "279  2017-12-25 12:49:51  2017-12-25 13:18:27                 31077   \n",
       "280  2017-12-25 13:46:44  2017-12-25 14:20:50                 31247   \n",
       "281  2017-12-26 10:40:16  2017-12-26 10:53:45                 31123   \n",
       "282  2017-12-27 16:56:12  2017-12-27 17:17:39                 31603   \n",
       "283  2017-12-29 06:02:34  2017-12-29 06:12:30                 31113   \n",
       "284  2017-12-29 12:21:03  2017-12-29 12:46:16                 31298   \n",
       "285  2017-12-29 14:32:55  2017-12-29 14:43:46                 31242   \n",
       "286  2017-12-29 15:08:26  2017-12-29 15:18:51                 31265   \n",
       "287  2017-12-29 20:33:34  2017-12-29 20:38:13                 31613   \n",
       "288  2017-12-30 13:51:03  2017-12-30 13:54:33                 31618   \n",
       "289  2017-12-30 15:09:03  2017-12-30 15:19:13                 31610   \n",
       "\n",
       "                                         Start station  End station number  \\\n",
       "0                                 Glebe Rd & 11th St N               31036   \n",
       "1                        George Mason Dr & Wilson Blvd               31036   \n",
       "2                        George Mason Dr & Wilson Blvd               31037   \n",
       "3                 Ballston Metro / N Stuart & 9th St N               31295   \n",
       "4                                    Potomac & M St NW               31230   \n",
       "5                        Metro Center / 12th & G St NW               31645   \n",
       "6                                        6th & K St NE               31262   \n",
       "7                                       11th & F St NW               31268   \n",
       "8                                       12th & U St NW               31267   \n",
       "9         Tenleytown / Wisconsin Ave & Albemarle St NW               31320   \n",
       "10                         Nebraska Ave/AU East Campus               31281   \n",
       "11                                       8th & O St NW               31241   \n",
       "12                                       Thomas Circle               31636   \n",
       "13                  New Jersey Ave & N St NW/Dunbar HS               31623   \n",
       "14                     Columbus Circle / Union Station               31272   \n",
       "15                Washington & Independence Ave SW/HHS               31247   \n",
       "16                           Jefferson Dr & 14th St SW               31240   \n",
       "17    Ohio Dr & West Basin Dr SW / MLK & FDR Memorials               31277   \n",
       "18                                      17th & G St NW               31200   \n",
       "19                Massachusetts Ave & Dupont Circle NW               31241   \n",
       "20                                       Thomas Circle               31278   \n",
       "21                                 14th & Upshur St NW               31238   \n",
       "22                                      14th & G St NW               31228   \n",
       "23                                       8th & H St NW               31219   \n",
       "24                       10th St & Constitution Ave NW               31624   \n",
       "25                          North Capitol St & F St NW               31051   \n",
       "26                         Arlington Blvd & N Queen St               31271   \n",
       "27                    Constitution Ave & 2nd St NW/DOL               31503   \n",
       "28                               Florida Ave & R St NW               31214   \n",
       "29                               17th & Corcoran St NW               31243   \n",
       "..                                                 ...                 ...   \n",
       "260                                     16th & R St NW               31276   \n",
       "261                  Convention Center / 7th & M St NW               31203   \n",
       "262                         14th & Rhode Island Ave NW               31638   \n",
       "263                                      1st & H St NW               31265   \n",
       "264                      5th St & Massachusetts Ave NW               31638   \n",
       "265                                      1st & H St NW               31512   \n",
       "266                          Neal St & Trinidad Ave NE               31611   \n",
       "267                                     13th & H St NE               31623   \n",
       "268                    Columbus Circle / Union Station               31227   \n",
       "269                          13th St & New York Ave NW               31277   \n",
       "270                     Georgia & New Hampshire Ave NW               31296   \n",
       "271                           Columbia & Ontario Rd NW               31401   \n",
       "272                             14th St & Spring Rd NW               31286   \n",
       "273                                     11th & O St NW               31230   \n",
       "274                      Metro Center / 12th & G St NW               31616   \n",
       "275                                      3rd & H St NE               31228   \n",
       "276                                      8th & H St NW               31225   \n",
       "277                     C & O Canal & Wisconsin Ave NW               31014   \n",
       "278                               Lynn & 19th St North               31077   \n",
       "279              Iwo Jima Memorial/N Meade & 14th St N               31247   \n",
       "280                          Jefferson Dr & 14th St SW               31247   \n",
       "281                                14th & Girard St NW               31603   \n",
       "282                                      1st & M St NE               31101   \n",
       "283                        Columbia Rd & Belmont St NW               31298   \n",
       "284                                     15th & M St NW               31242   \n",
       "285                      18th St & Pennsylvania Ave NW               31265   \n",
       "286                      5th St & Massachusetts Ave NW               31613   \n",
       "287  Eastern Market Metro / Pennsylvania Ave & 7th ...               31618   \n",
       "288                           4th & East Capitol St NE               31610   \n",
       "289       Eastern Market / 7th & North Carolina Ave SE               31272   \n",
       "\n",
       "                                           End station Bike number Member type  \n",
       "0                        George Mason Dr & Wilson Blvd      W20529      Member  \n",
       "1                        George Mason Dr & Wilson Blvd      W20529      Casual  \n",
       "2                 Ballston Metro / N Stuart & 9th St N      W20529      Member  \n",
       "3                                    Potomac & M St NW      W20529      Member  \n",
       "4                        Metro Center / 12th & G St NW      W20529      Member  \n",
       "5                                        6th & K St NE      W20529      Member  \n",
       "6                                       11th & F St NW      W20529      Member  \n",
       "7                                       12th & U St NW      W20529      Member  \n",
       "8                       17th St & Massachusetts Ave NW      W20529      Member  \n",
       "9                          Nebraska Ave/AU East Campus      W20529      Member  \n",
       "10                                       8th & O St NW      W20529      Member  \n",
       "11                                       Thomas Circle      W20529      Casual  \n",
       "12                  New Jersey Ave & N St NW/Dunbar HS      W20529      Member  \n",
       "13                     Columbus Circle / Union Station      W20529      Member  \n",
       "14                Washington & Independence Ave SW/HHS      W20529      Member  \n",
       "15                           Jefferson Dr & 14th St SW      W20529      Casual  \n",
       "16    Ohio Dr & West Basin Dr SW / MLK & FDR Memorials      W20529      Casual  \n",
       "17                                      17th & G St NW      W20529      Casual  \n",
       "18                Massachusetts Ave & Dupont Circle NW      W20529      Casual  \n",
       "19                                       Thomas Circle      W20529      Member  \n",
       "20                                      18th & R St NW      W20529      Member  \n",
       "21                                      14th & G St NW      W20529      Member  \n",
       "22                                       8th & H St NW      W20529      Member  \n",
       "23                       10th St & Constitution Ave NW      W20529      Member  \n",
       "24                          North Capitol St & F St NW      W20529      Member  \n",
       "25                         Arlington Blvd & N Queen St      W20529      Member  \n",
       "26                    Constitution Ave & 2nd St NW/DOL      W20529      Member  \n",
       "27                               Florida Ave & R St NW      W20529      Member  \n",
       "28                               17th & Corcoran St NW      W20529      Member  \n",
       "29                                       4th & C St SW      W20529      Member  \n",
       "..                                                 ...         ...         ...  \n",
       "260                                     15th & L St NW      W20529      Member  \n",
       "261                         14th & Rhode Island Ave NW      W20529      Member  \n",
       "262                                      1st & H St NW      W20529      Member  \n",
       "263                      5th St & Massachusetts Ave NW      W20529      Member  \n",
       "264                                      1st & H St NW      W20529      Member  \n",
       "265                          Neal St & Trinidad Ave NE      W20529      Member  \n",
       "266                                     13th & H St NE      W20529      Member  \n",
       "267                    Columbus Circle / Union Station      W20529      Member  \n",
       "268                          13th St & New York Ave NW      W20529      Member  \n",
       "269                                     17th & G St NW      W20529      Member  \n",
       "270                           Columbia & Ontario Rd NW      W20529      Member  \n",
       "271                             14th St & Spring Rd NW      W20529      Member  \n",
       "272                                     11th & O St NW      W20529      Member  \n",
       "273                      Metro Center / 12th & G St NW      W20529      Member  \n",
       "274                                      3rd & H St NE      W20529      Member  \n",
       "275                                      8th & H St NW      W20529      Member  \n",
       "276                     C & O Canal & Wisconsin Ave NW      W20529      Member  \n",
       "277                               Lynn & 19th St North      W20529      Member  \n",
       "278              Iwo Jima Memorial/N Meade & 14th St N      W20529      Member  \n",
       "279                          Jefferson Dr & 14th St SW      W20529      Casual  \n",
       "280                          Jefferson Dr & 14th St SW      W20529      Casual  \n",
       "281                                      1st & M St NE      W20529      Member  \n",
       "282                                     14th & V St NW      W20529      Member  \n",
       "283                                     15th & M St NW      W20529      Member  \n",
       "284                      18th St & Pennsylvania Ave NW      W20529      Casual  \n",
       "285                      5th St & Massachusetts Ave NW      W20529      Member  \n",
       "286  Eastern Market Metro / Pennsylvania Ave & 7th ...      W20529      Casual  \n",
       "287                           4th & East Capitol St NE      W20529      Member  \n",
       "288       Eastern Market / 7th & North Carolina Ave SE      W20529      Member  \n",
       "289               Washington & Independence Ave SW/HHS      W20529      Member  \n",
       "\n",
       "[290 rows x 8 columns]"
      ]
     },
     "execution_count": 21,
     "metadata": {},
     "output_type": "execute_result"
    }
   ],
   "source": [
    "bikeshare"
   ]
  },
  {
   "cell_type": "code",
   "execution_count": 23,
   "metadata": {},
   "outputs": [],
   "source": [
    "'''Counting events before and after noon'''\n",
    "\n",
    "onebike_datetimes =  [{'end': datetime(2017, 10, 1, 15, 26, 26),\n",
    "  'start': datetime(2017, 10, 1, 15, 23, 25)},\n",
    " {'end': datetime(2017, 10, 1, 17, 49, 59),\n",
    "  'start': datetime(2017, 10, 1, 15, 42, 57)},\n",
    " {'end': datetime(2017, 10, 2, 6, 42, 53),\n",
    "  'start': datetime(2017, 10, 2, 6, 37, 10)},\n",
    " {'end': datetime(2017, 10, 2, 9, 18, 3),\n",
    "  'start': datetime(2017, 10, 2, 8, 56, 45)}]"
   ]
  },
  {
   "cell_type": "code",
   "execution_count": 24,
   "metadata": {},
   "outputs": [
    {
     "name": "stdout",
     "output_type": "stream",
     "text": [
      "{'AM': 2, 'PM': 2}\n"
     ]
    }
   ],
   "source": [
    "# Create dictionary to hold results\n",
    "trip_counts = {'AM': 0, 'PM': 0}\n",
    "  \n",
    "# Loop over all trips\n",
    "for trip in onebike_datetimes:\n",
    "  # Check to see if the trip starts before noon\n",
    "  if trip['start'].hour < 12:\n",
    "    # Increment the counter for before noon\n",
    "    trip_counts['AM'] += 1\n",
    "  else:\n",
    "    # Increment the counter for after noon\n",
    "    trip_counts['PM'] += 1\n",
    "  \n",
    "print(trip_counts)"
   ]
  },
  {
   "cell_type": "code",
   "execution_count": null,
   "metadata": {},
   "outputs": [],
   "source": [
    "'''strings to datetimes'''\n",
    "\n",
    "# Import the datetime class\n",
    "from datetime import datetime\n",
    "\n",
    "# Starting string, in YYYY-MM-DD HH:MM:SS format\n",
    "s = '2017-02-03 00:00:01'\n",
    "\n",
    "# Write a format string to parse s\n",
    "fmt = '%Y-%m-%d %H:%M:%S'\n",
    "\n",
    "# Create a datetime object d\n",
    "d = datetime.strptime(s, fmt)\n",
    "\n",
    "# Print d\n",
    "print(d)"
   ]
  },
  {
   "cell_type": "code",
   "execution_count": 25,
   "metadata": {},
   "outputs": [],
   "source": [
    "onebike_datetime_strings = [('2017-10-01 15:23:25', '2017-10-01 15:26:26'),\n",
    " ('2017-10-01 15:42:57', '2017-10-01 17:49:59'),\n",
    " ('2017-10-02 06:37:10', '2017-10-02 06:42:53'),\n",
    " ('2017-10-02 08:56:45', '2017-10-02 09:18:03'),\n",
    " ('2017-10-02 18:23:48', '2017-10-02 18:45:05'),\n",
    " ('2017-10-02 18:48:08', '2017-10-02 19:10:54'),\n",
    " ('2017-10-02 19:18:10', '2017-10-02 19:31:45'),\n",
    " ('2017-10-02 19:37:32', '2017-10-02 19:46:37'),\n",
    " ('2017-10-03 08:24:16', '2017-10-03 08:32:27'),\n",
    " ('2017-10-03 18:17:07', '2017-10-03 18:27:46'),\n",
    " ('2017-10-03 19:24:10', '2017-10-03 19:52:08'),\n",
    " ('2017-10-03 20:17:06', '2017-10-03 20:23:52'),\n",
    " ('2017-10-03 20:45:21', '2017-10-03 20:57:10'),\n",
    " ('2017-10-04 07:04:57', '2017-10-04 07:13:31')]"
   ]
  },
  {
   "cell_type": "code",
   "execution_count": 82,
   "metadata": {},
   "outputs": [],
   "source": [
    "'''Parsing pairs of strings as datetimes'''\n",
    "\n",
    "# Write down the format string\n",
    "fmt = \"%Y-%m-%d %H:%M:%S\"\n",
    "\n",
    "# Initialize a list for holding the pairs of datetime objects\n",
    "onebike_datetimes = []\n",
    "\n",
    "# Loop over all trips\n",
    "for (start, end) in onebike_datetime_strings:\n",
    "  trip = {'start': datetime.strptime(start, fmt),\n",
    "          'end': datetime.strptime(end, fmt)}\n",
    "  \n",
    "  # Append the trip\n",
    "  onebike_datetimes.append(trip)"
   ]
  },
  {
   "cell_type": "code",
   "execution_count": 28,
   "metadata": {
    "collapsed": true
   },
   "outputs": [
    {
     "data": {
      "text/plain": [
       "[{'start': datetime.datetime(2017, 10, 1, 15, 23, 25),\n",
       "  'end': datetime.datetime(2017, 10, 1, 15, 26, 26)},\n",
       " {'start': datetime.datetime(2017, 10, 1, 15, 42, 57),\n",
       "  'end': datetime.datetime(2017, 10, 1, 17, 49, 59)},\n",
       " {'start': datetime.datetime(2017, 10, 2, 6, 37, 10),\n",
       "  'end': datetime.datetime(2017, 10, 2, 6, 42, 53)},\n",
       " {'start': datetime.datetime(2017, 10, 2, 8, 56, 45),\n",
       "  'end': datetime.datetime(2017, 10, 2, 9, 18, 3)},\n",
       " {'start': datetime.datetime(2017, 10, 2, 18, 23, 48),\n",
       "  'end': datetime.datetime(2017, 10, 2, 18, 45, 5)},\n",
       " {'start': datetime.datetime(2017, 10, 2, 18, 48, 8),\n",
       "  'end': datetime.datetime(2017, 10, 2, 19, 10, 54)},\n",
       " {'start': datetime.datetime(2017, 10, 2, 19, 18, 10),\n",
       "  'end': datetime.datetime(2017, 10, 2, 19, 31, 45)},\n",
       " {'start': datetime.datetime(2017, 10, 2, 19, 37, 32),\n",
       "  'end': datetime.datetime(2017, 10, 2, 19, 46, 37)},\n",
       " {'start': datetime.datetime(2017, 10, 3, 8, 24, 16),\n",
       "  'end': datetime.datetime(2017, 10, 3, 8, 32, 27)},\n",
       " {'start': datetime.datetime(2017, 10, 3, 18, 17, 7),\n",
       "  'end': datetime.datetime(2017, 10, 3, 18, 27, 46)},\n",
       " {'start': datetime.datetime(2017, 10, 3, 19, 24, 10),\n",
       "  'end': datetime.datetime(2017, 10, 3, 19, 52, 8)},\n",
       " {'start': datetime.datetime(2017, 10, 3, 20, 17, 6),\n",
       "  'end': datetime.datetime(2017, 10, 3, 20, 23, 52)},\n",
       " {'start': datetime.datetime(2017, 10, 3, 20, 45, 21),\n",
       "  'end': datetime.datetime(2017, 10, 3, 20, 57, 10)},\n",
       " {'start': datetime.datetime(2017, 10, 4, 7, 4, 57),\n",
       "  'end': datetime.datetime(2017, 10, 4, 7, 13, 31)}]"
      ]
     },
     "execution_count": 28,
     "metadata": {},
     "output_type": "execute_result"
    }
   ],
   "source": [
    "onebike_datetimes"
   ]
  },
  {
   "cell_type": "code",
   "execution_count": 29,
   "metadata": {},
   "outputs": [
    {
     "name": "stdout",
     "output_type": "stream",
     "text": [
      "2017-10-01T15:23:25\n",
      "2017-10-01T15:23:25\n"
     ]
    }
   ],
   "source": [
    "# Pull out the start of the first trip\n",
    "first_start = onebike_datetimes[0]['start']\n",
    "\n",
    "# Format to feed to strftime()\n",
    "fmt = \"%Y-%m-%dT%H:%M:%S\"\n",
    "\n",
    "# Print out date with .isoformat(), then with .strftime() to compare\n",
    "print(first_start.isoformat())\n",
    "print(first_start.strftime(fmt))"
   ]
  },
  {
   "cell_type": "markdown",
   "metadata": {},
   "source": [
    "There are a wide variety of time formats you can create with strftime(), depending on your needs. However, if you don't know exactly what you need, .isoformat() is a perfectly fine place to start."
   ]
  },
  {
   "cell_type": "markdown",
   "metadata": {},
   "source": [
    "#### IMPORTANT:\n",
    "strptime converts the string to a datetime object.\n",
    "\n",
    "strftime creates a formatted string for given time/date/datetime object according to specified format by the user\n",
    "\n",
    "you would use strftime to convert a datetime object like this: datetime (2018, 10, 20, 10, 9, 22, 120401) to a more readable format like \"20-10-2018\" or 20th of October 2018"
   ]
  },
  {
   "cell_type": "code",
   "execution_count": null,
   "metadata": {},
   "outputs": [],
   "source": [
    "'''unix timestamps'''\n",
    "\n",
    "# Import datetime\n",
    "from datetime import datetime\n",
    "\n",
    "# Starting timestamps\n",
    "timestamps = [1514665153, 1514664543] '''this is number of seconds since 1-1-1970'''\n",
    "\n",
    "# Datetime objects\n",
    "dts = []\n",
    "\n",
    "# Loop\n",
    "for ts in timestamps:\n",
    "  dts.append(datetime.fromtimestamp(ts))\n",
    "  \n",
    "# Print results\n",
    "print(dts)"
   ]
  },
  {
   "cell_type": "code",
   "execution_count": 39,
   "metadata": {},
   "outputs": [],
   "source": [
    "'''durations'''\n",
    "\n",
    "# Initialize a list for all the trip durations\n",
    "onebike_durations = []\n",
    "\n",
    "for trip in onebike_datetimes:\n",
    "  # Create a timedelta object corresponding to the length of the trip\n",
    "  trip_duration = trip['end'] - trip['start']\n",
    "  \n",
    "  # Get the total elapsed seconds in trip_duration\n",
    "  trip_length_seconds = trip_duration.total_seconds()\n",
    "  \n",
    "  # Append the results to our list\n",
    "  onebike_durations.append(trip_length_seconds)"
   ]
  },
  {
   "cell_type": "code",
   "execution_count": 38,
   "metadata": {},
   "outputs": [
    {
     "data": {
      "text/plain": [
       "[181, 7622, 343, 1278, 1277, 1366, 815, 545, 491, 639, 1678, 406, 709, 514]"
      ]
     },
     "execution_count": 38,
     "metadata": {},
     "output_type": "execute_result"
    }
   ],
   "source": [
    "onebike_durations"
   ]
  },
  {
   "cell_type": "code",
   "execution_count": 41,
   "metadata": {},
   "outputs": [],
   "source": [
    "# Calculate shortest and longest trips\n",
    "shortest_trip = min(onebike_durations)\n",
    "longest_trip = max(onebike_durations)"
   ]
  },
  {
   "cell_type": "markdown",
   "metadata": {},
   "source": [
    "# 3. Time Zones and Daylight Savings"
   ]
  },
  {
   "cell_type": "code",
   "execution_count": 42,
   "metadata": {},
   "outputs": [
    {
     "name": "stdout",
     "output_type": "stream",
     "text": [
      "2017-10-01T15:26:26+00:00\n"
     ]
    }
   ],
   "source": [
    "# Import datetime, timezone\n",
    "from datetime import datetime, timezone\n",
    "\n",
    "# October 1, 2017 at 15:26:26, UTC\n",
    "dt = datetime(2017, 10, 1, 15, 26, 26, tzinfo=timezone.utc)\n",
    "\n",
    "# Print results\n",
    "print(dt.isoformat())"
   ]
  },
  {
   "cell_type": "code",
   "execution_count": 43,
   "metadata": {},
   "outputs": [
    {
     "name": "stdout",
     "output_type": "stream",
     "text": [
      "2017-10-01T15:26:26-08:00\n"
     ]
    }
   ],
   "source": [
    "# Import datetime, timedelta, timezone\n",
    "from datetime import datetime, timedelta, timezone\n",
    "\n",
    "# Create a timezone for Pacific Standard Time, or UTC-8\n",
    "pst = timezone(timedelta(hours=-8))\n",
    "\n",
    "# October 1, 2017 at 15:26:26, UTC-8\n",
    "dt = datetime(2017, 10, 1, 15, 26, 26, tzinfo=pst)\n",
    "\n",
    "# Print results\n",
    "print(dt.isoformat())\n"
   ]
  },
  {
   "cell_type": "code",
   "execution_count": 44,
   "metadata": {
    "collapsed": true
   },
   "outputs": [
    {
     "data": {
      "text/plain": [
       "[{'start': datetime.datetime(2017, 10, 1, 15, 23, 25),\n",
       "  'end': datetime.datetime(2017, 10, 1, 15, 26, 26)},\n",
       " {'start': datetime.datetime(2017, 10, 1, 15, 42, 57),\n",
       "  'end': datetime.datetime(2017, 10, 1, 17, 49, 59)},\n",
       " {'start': datetime.datetime(2017, 10, 2, 6, 37, 10),\n",
       "  'end': datetime.datetime(2017, 10, 2, 6, 42, 53)},\n",
       " {'start': datetime.datetime(2017, 10, 2, 8, 56, 45),\n",
       "  'end': datetime.datetime(2017, 10, 2, 9, 18, 3)},\n",
       " {'start': datetime.datetime(2017, 10, 2, 18, 23, 48),\n",
       "  'end': datetime.datetime(2017, 10, 2, 18, 45, 5)},\n",
       " {'start': datetime.datetime(2017, 10, 2, 18, 48, 8),\n",
       "  'end': datetime.datetime(2017, 10, 2, 19, 10, 54)},\n",
       " {'start': datetime.datetime(2017, 10, 2, 19, 18, 10),\n",
       "  'end': datetime.datetime(2017, 10, 2, 19, 31, 45)},\n",
       " {'start': datetime.datetime(2017, 10, 2, 19, 37, 32),\n",
       "  'end': datetime.datetime(2017, 10, 2, 19, 46, 37)},\n",
       " {'start': datetime.datetime(2017, 10, 3, 8, 24, 16),\n",
       "  'end': datetime.datetime(2017, 10, 3, 8, 32, 27)},\n",
       " {'start': datetime.datetime(2017, 10, 3, 18, 17, 7),\n",
       "  'end': datetime.datetime(2017, 10, 3, 18, 27, 46)},\n",
       " {'start': datetime.datetime(2017, 10, 3, 19, 24, 10),\n",
       "  'end': datetime.datetime(2017, 10, 3, 19, 52, 8)},\n",
       " {'start': datetime.datetime(2017, 10, 3, 20, 17, 6),\n",
       "  'end': datetime.datetime(2017, 10, 3, 20, 23, 52)},\n",
       " {'start': datetime.datetime(2017, 10, 3, 20, 45, 21),\n",
       "  'end': datetime.datetime(2017, 10, 3, 20, 57, 10)},\n",
       " {'start': datetime.datetime(2017, 10, 4, 7, 4, 57),\n",
       "  'end': datetime.datetime(2017, 10, 4, 7, 13, 31)}]"
      ]
     },
     "execution_count": 44,
     "metadata": {},
     "output_type": "execute_result"
    }
   ],
   "source": [
    "onebike_datetimes"
   ]
  },
  {
   "cell_type": "code",
   "execution_count": 71,
   "metadata": {},
   "outputs": [
    {
     "data": {
      "text/plain": [
       "'replace only assigns tz to time it doesnt recalculate the time itself'"
      ]
     },
     "execution_count": 71,
     "metadata": {},
     "output_type": "execute_result"
    }
   ],
   "source": [
    "# Create a timezone object corresponding to UTC-4\n",
    "edt = timezone(timedelta(hours=-4))\n",
    "\n",
    "# Loop over trips, updating the start and end datetimes to be in UTC-4\n",
    "for trip in onebike_datetimes[:10]:\n",
    "    # Update trip['start'] and trip['end']\n",
    "    trip['start'] = trip['start'].replace(tzinfo = edt)\n",
    "    trip['end'] = trip['end'].replace(tzinfo = edt)\n",
    "    \n",
    "'''replace only assigns tz to time it doesnt recalculate the time itself'''"
   ]
  },
  {
   "cell_type": "code",
   "execution_count": 66,
   "metadata": {},
   "outputs": [
    {
     "data": {
      "text/plain": [
       "'2017-10-01T15:23:25-04:00'"
      ]
     },
     "execution_count": 66,
     "metadata": {},
     "output_type": "execute_result"
    }
   ],
   "source": [
    "onebike_datetimes[0]['start'].isoformat()"
   ]
  },
  {
   "cell_type": "code",
   "execution_count": 73,
   "metadata": {},
   "outputs": [
    {
     "name": "stdout",
     "output_type": "stream",
     "text": [
      "Original: 2017-10-01 15:23:25-04:00 | UTC: 2017-10-01T19:23:25+00:00\n",
      "Original: 2017-10-01 15:42:57-04:00 | UTC: 2017-10-01T19:42:57+00:00\n",
      "Original: 2017-10-02 06:37:10-04:00 | UTC: 2017-10-02T10:37:10+00:00\n",
      "Original: 2017-10-02 08:56:45-04:00 | UTC: 2017-10-02T12:56:45+00:00\n",
      "Original: 2017-10-02 18:23:48-04:00 | UTC: 2017-10-02T22:23:48+00:00\n",
      "Original: 2017-10-02 18:48:08-04:00 | UTC: 2017-10-02T22:48:08+00:00\n",
      "Original: 2017-10-02 19:18:10-04:00 | UTC: 2017-10-02T23:18:10+00:00\n",
      "Original: 2017-10-02 19:37:32-04:00 | UTC: 2017-10-02T23:37:32+00:00\n",
      "Original: 2017-10-03 08:24:16-04:00 | UTC: 2017-10-03T12:24:16+00:00\n",
      "Original: 2017-10-03 18:17:07-04:00 | UTC: 2017-10-03T22:17:07+00:00\n"
     ]
    }
   ],
   "source": [
    "'''now that we have assigned the time to UTC -4, we can compare times with actual UTC'''\n",
    "\n",
    "# Loop over the trips\n",
    "for trip in onebike_datetimes[:10]:\n",
    "  # Pull out the start and set it to UTC\n",
    "  dt = trip['start'].astimezone(timezone.utc)\n",
    "  \n",
    "  # Print the start time in UTC\n",
    "  print('Original:', trip['start'], '| UTC:', dt.isoformat())"
   ]
  },
  {
   "cell_type": "code",
   "execution_count": 86,
   "metadata": {},
   "outputs": [],
   "source": [
    "'''what if you don't know timezone values'''\n",
    "\n",
    "# Import tz\n",
    "from dateutil import tz\n",
    "\n",
    "# Create a timezone object for Eastern Time\n",
    "et = tz.gettz('America/New_York')\n",
    "\n",
    "# Loop over trips, updating the datetimes to be in Eastern Time\n",
    "for trip in onebike_datetimes:\n",
    "  # Update trip['start'] and trip['end']\n",
    "  trip['start'] = trip['start'].replace(tzinfo = et)\n",
    "  trip['end'] = trip['end'].replace(tzinfo = et)"
   ]
  },
  {
   "cell_type": "code",
   "execution_count": 77,
   "metadata": {},
   "outputs": [
    {
     "name": "stdout",
     "output_type": "stream",
     "text": [
      "2017-10-01T15:23:25-04:00\n",
      "2017-10-01T20:23:25+01:00\n"
     ]
    }
   ],
   "source": [
    "# Create the timezone object\n",
    "uk = tz.gettz('Europe/London')\n",
    "\n",
    "# Pull out the start of the first trip\n",
    "local = onebike_datetimes[0]['start']\n",
    "\n",
    "# What time was it in the UK?\n",
    "notlocal = local.astimezone(uk)\n",
    "\n",
    "# Print them out and see the difference\n",
    "print(local.isoformat())\n",
    "print(notlocal.isoformat())"
   ]
  },
  {
   "cell_type": "code",
   "execution_count": 78,
   "metadata": {},
   "outputs": [
    {
     "name": "stdout",
     "output_type": "stream",
     "text": [
      "2017-10-01T15:23:25-04:00\n",
      "2017-10-02T00:53:25+05:30\n"
     ]
    }
   ],
   "source": [
    "# Create the timezone object\n",
    "ist = tz.gettz('Asia/Kolkata')\n",
    "\n",
    "# Pull out the start of the first trip\n",
    "local = onebike_datetimes[0]['start']\n",
    "\n",
    "# What time was it in the UK?\n",
    "notlocal = local.astimezone(ist)\n",
    "\n",
    "# Print them out and see the difference\n",
    "print(local.isoformat())\n",
    "print(notlocal.isoformat())"
   ]
  },
  {
   "cell_type": "code",
   "execution_count": 79,
   "metadata": {},
   "outputs": [
    {
     "name": "stdout",
     "output_type": "stream",
     "text": [
      "2017-10-01T15:23:25-04:00\n",
      "2017-10-02T09:23:25+14:00\n"
     ]
    }
   ],
   "source": [
    "# Create the timezone object\n",
    "sm = tz.gettz('Pacific/Apia')\n",
    "\n",
    "# Pull out the start of the first trip\n",
    "local = onebike_datetimes[0]['start']\n",
    "\n",
    "# What time was it in Samoa?\n",
    "notlocal = local.astimezone(sm)\n",
    "\n",
    "# Print them out and see the difference\n",
    "print(local.isoformat())\n",
    "print(notlocal.isoformat())"
   ]
  },
  {
   "cell_type": "code",
   "execution_count": null,
   "metadata": {},
   "outputs": [],
   "source": [
    "'''DAYLIGHT SAVINGS TIME'''\n",
    "\n",
    "'''Understanding differences in number of hours'''\n",
    "\n",
    "# Import datetime, timedelta, tz, timezone\n",
    "from datetime import datetime, timedelta, timezone\n",
    "from dateutil import tz\n",
    "\n",
    "# Start on March 12, 2017, midnight, then add 6 hours\n",
    "start = datetime(2017, 3, 12, tzinfo = tz.gettz('America/New_York'))\n",
    "end = start + timedelta(hours=6)\n",
    "print(start.isoformat() + \" to \" + end.isoformat())\n",
    "\n",
    "# How many hours have elapsed?\n",
    "print((end - start).total_seconds()/(60*60))\n",
    "\n",
    "# What if we move to UTC?\n",
    "print((end.astimezone(timezone.utc) - start.astimezone(timezone.utc))\\\n",
    "      .total_seconds()/(60*60))"
   ]
  },
  {
   "cell_type": "code",
   "execution_count": 80,
   "metadata": {},
   "outputs": [
    {
     "name": "stdout",
     "output_type": "stream",
     "text": [
      "2000-03-29T00:00:00+01:00\n",
      "2001-03-29T00:00:00+01:00\n",
      "2002-03-29T00:00:00+00:00\n",
      "2003-03-29T00:00:00+00:00\n",
      "2004-03-29T00:00:00+01:00\n",
      "2005-03-29T00:00:00+01:00\n",
      "2006-03-29T00:00:00+01:00\n",
      "2007-03-29T00:00:00+01:00\n",
      "2008-03-29T00:00:00+00:00\n",
      "2009-03-29T00:00:00+00:00\n",
      "2010-03-29T00:00:00+01:00\n"
     ]
    }
   ],
   "source": [
    "'''utc offset on march 29th from 2000-2010'''\n",
    "\n",
    "# Import datetime and tz\n",
    "from datetime import datetime\n",
    "from dateutil import tz\n",
    "\n",
    "# Create starting date\n",
    "dt = datetime(2000, 3, 29, tzinfo = tz.gettz('Europe/London'))\n",
    "\n",
    "# Loop over the dates, replacing the year, and print the ISO timestamp\n",
    "for y in range(2000, 2011):\n",
    "  print(dt.replace(year=y).isoformat())"
   ]
  },
  {
   "cell_type": "code",
   "execution_count": 87,
   "metadata": {},
   "outputs": [],
   "source": [
    "'''use ambiguous to see if the same time could occur at two different UTC moments'''\n",
    "# Loop over trips\n",
    "for trip in onebike_datetimes:\n",
    "  # Rides with ambiguous start\n",
    "  if tz.datetime_ambiguous(trip['start']):\n",
    "    print(\"Ambiguous start at \" + str(trip['start']))\n",
    "  # Rides with ambiguous end\n",
    "  if tz.datetime_ambiguous(trip['end']):\n",
    "    print(\"Ambiguous end at \" + str(trip['end']))"
   ]
  },
  {
   "cell_type": "code",
   "execution_count": 88,
   "metadata": {},
   "outputs": [
    {
     "name": "stdout",
     "output_type": "stream",
     "text": [
      "Shortest trip: 181.0\n"
     ]
    }
   ],
   "source": [
    "trip_durations = []\n",
    "for trip in onebike_datetimes:\n",
    "  # When the start is later than the end, set the fold to be 1\n",
    "  if trip['start'] > trip['end']:\n",
    "    trip['end'] = tz.enfold(trip['end'])\n",
    "  # Convert to UTC\n",
    "  start = trip['start'].astimezone(tz.UTC)\n",
    "  end = trip['end'].astimezone(tz.UTC)\n",
    "\n",
    "  # Subtract the difference\n",
    "  trip_length_seconds = (end-start).total_seconds()\n",
    "  trip_durations.append(trip_length_seconds)\n",
    "\n",
    "# Take the shortest trip duration\n",
    "print(\"Shortest trip: \" + str(min(trip_durations)))"
   ]
  },
  {
   "cell_type": "markdown",
   "metadata": {},
   "source": [
    "# 4. Reading Date Time in PAndas"
   ]
  },
  {
   "cell_type": "code",
   "execution_count": 22,
   "metadata": {},
   "outputs": [
    {
     "name": "stdout",
     "output_type": "stream",
     "text": [
      "Start date                        2017-10-01 15:23:25\n",
      "End date                          2017-10-01 15:26:26\n",
      "Start station number                            31038\n",
      "Start station                    Glebe Rd & 11th St N\n",
      "End station number                              31036\n",
      "End station             George Mason Dr & Wilson Blvd\n",
      "Bike number                                    W20529\n",
      "Member type                                    Member\n",
      "Name: 0, dtype: object\n"
     ]
    }
   ],
   "source": [
    "# Load CSV into the rides variable\n",
    "rides = pd.read_csv(file1, \n",
    "                    parse_dates = ['Start date', 'End date'])\n",
    "\n",
    "# Print the initial (0th) row\n",
    "print(rides.iloc[0])"
   ]
  },
  {
   "cell_type": "markdown",
   "metadata": {},
   "source": [
    "Pandas has a pd.read_excel(), pd.read_json(), and even a pd.read_clipboard() function to read tabular data that you've copied from a document or website? Most have date parsing functionality too."
   ]
  },
  {
   "cell_type": "code",
   "execution_count": 5,
   "metadata": {},
   "outputs": [
    {
     "name": "stdout",
     "output_type": "stream",
     "text": [
      "0     181.0\n",
      "1    7622.0\n",
      "2     343.0\n",
      "3    1278.0\n",
      "4    1277.0\n",
      "Name: Duration, dtype: float64\n"
     ]
    }
   ],
   "source": [
    "# Subtract the start date from the end date\n",
    "ride_durations = rides['End date'] - rides['Start date']\n",
    "\n",
    "# Convert the results to seconds\n",
    "rides['Duration'] = ride_durations.dt.total_seconds()\n",
    "\n",
    "print(rides['Duration'].head())"
   ]
  },
  {
   "cell_type": "code",
   "execution_count": 6,
   "metadata": {},
   "outputs": [
    {
     "name": "stdout",
     "output_type": "stream",
     "text": [
      "6 rides were joyrides\n",
      "The median duration overall was 660.00 seconds\n",
      "The median duration for joyrides was 2642.50 seconds\n"
     ]
    }
   ],
   "source": [
    "# Create joyrides\n",
    "joyrides = (rides['Start station'] == rides['End station'])\n",
    "\n",
    "# Total number of joyrides\n",
    "print(\"{} rides were joyrides\".format(joyrides.sum()))\n",
    "\n",
    "# Median of all rides\n",
    "print(\"The median duration overall was {:.2f} seconds\"\\\n",
    "      .format(rides['Duration'].median()))\n",
    "\n",
    "# Median of joyrides\n",
    "print(\"The median duration for joyrides was {:.2f} seconds\"\\\n",
    "      .format(rides[joyrides]['Duration'].median()))"
   ]
  },
  {
   "cell_type": "code",
   "execution_count": 8,
   "metadata": {},
   "outputs": [
    {
     "data": {
      "image/png": "[encoded data removed]",
      "text/plain": [
       "<Figure size 432x288 with 1 Axes>"
      ]
     },
     "metadata": {
      "needs_background": "light"
     },
     "output_type": "display_data"
    }
   ],
   "source": [
    "# Import matplotlib\n",
    "import matplotlib.pyplot as plt\n",
    "\n",
    "# Resample rides to daily, take the size, plot the results\n",
    "rides.resample('D', on = 'Start date')\\\n",
    "  .size()\\\n",
    "  .plot(ylim = [0, 15])\n",
    "\n",
    "# Show the results\n",
    "plt.show()"
   ]
  },
  {
   "cell_type": "code",
   "execution_count": 9,
   "metadata": {},
   "outputs": [
    {
     "data": {
      "image/png": "[encoded data removed]",
      "text/plain": [
       "<Figure size 432x288 with 1 Axes>"
      ]
     },
     "metadata": {
      "needs_background": "light"
     },
     "output_type": "display_data"
    }
   ],
   "source": [
    "# Import matplotlib\n",
    "import matplotlib.pyplot as plt\n",
    "\n",
    "# Resample rides to monthly, take the size, plot the results\n",
    "rides.resample('M', on = 'Start date')\\\n",
    "  .size()\\\n",
    "  .plot(ylim = [0, 150])\n",
    "\n",
    "# Show the results\n",
    "plt.show()"
   ]
  },
  {
   "cell_type": "code",
   "execution_count": 101,
   "metadata": {},
   "outputs": [
    {
     "name": "stdout",
     "output_type": "stream",
     "text": [
      "Start date  Member type\n",
      "2017-10-31  Member         0.768519\n",
      "            Casual         0.231481\n",
      "2017-11-30  Member         0.825243\n",
      "            Casual         0.174757\n",
      "2017-12-31  Member         0.860759\n",
      "            Casual         0.139241\n",
      "Name: Member type, dtype: float64\n"
     ]
    }
   ],
   "source": [
    "# Resample rides to be monthly on the basis of Start date\n",
    "monthly_rides = rides.resample('M', on = 'Start date')['Member type']\n",
    "\n",
    "# Take the ratio of the .value_counts() over the total number of rides\n",
    "print(monthly_rides.value_counts() / monthly_rides.size())"
   ]
  },
  {
   "cell_type": "code",
   "execution_count": 102,
   "metadata": {},
   "outputs": [
    {
     "name": "stdout",
     "output_type": "stream",
     "text": [
      "Member type  Start date\n",
      "Casual       2017-10-31    1636.0\n",
      "             2017-11-30    1159.5\n",
      "             2017-12-31     850.0\n",
      "Member       2017-10-31     671.0\n",
      "             2017-11-30     655.0\n",
      "             2017-12-31     387.5\n",
      "Name: Duration, dtype: float64\n"
     ]
    }
   ],
   "source": [
    "# Group rides by member type, and resample to the month\n",
    "grouped = rides.groupby('Member type')\\\n",
    "  .resample('M', on = 'Start date')\n",
    "\n",
    "# Print the median duration for each group\n",
    "print(grouped['Duration'].median())"
   ]
  },
  {
   "cell_type": "code",
   "execution_count": 10,
   "metadata": {},
   "outputs": [
    {
     "name": "stdout",
     "output_type": "stream",
     "text": [
      "2017-10-01 15:23:25-04:00\n"
     ]
    }
   ],
   "source": [
    "# Localize the Start date column to America/New_York\n",
    "rides['Start date'] = rides['Start date'].dt.tz_localize('America/New_York', \n",
    "                                \t\t\t\t\t\t ambiguous='NaT')\n",
    "\n",
    "# Print first value\n",
    "print(rides['Start date'].iloc[0])"
   ]
  },
  {
   "cell_type": "code",
   "execution_count": 16,
   "metadata": {},
   "outputs": [
    {
     "name": "stdout",
     "output_type": "stream",
     "text": [
      "2017-10-01 20:23:25+01:00\n"
     ]
    }
   ],
   "source": [
    "# Convert the Start date column to Europe/London\n",
    "rides['Start date'] = rides['Start date'].dt.tz_convert('Europe/London')\n",
    "\n",
    "# Print the new value\n",
    "print(rides['Start date'].iloc[0])"
   ]
  },
  {
   "cell_type": "markdown",
   "metadata": {},
   "source": [
    "dt.tzconvert() converts to a new timezone, whereas dt.tzlocalize() sets a timezone in the first place. You now know how to deal with datetimes in Pandas."
   ]
  },
  {
   "cell_type": "code",
   "execution_count": 17,
   "metadata": {},
   "outputs": [
    {
     "name": "stdout",
     "output_type": "stream",
     "text": [
      "Ride start weekday\n",
      "Friday       684.0\n",
      "Monday       922.5\n",
      "Saturday     610.0\n",
      "Sunday       625.0\n",
      "Thursday     659.0\n",
      "Tuesday      644.0\n",
      "Wednesday    629.0\n",
      "Name: Duration, dtype: float64\n"
     ]
    }
   ],
   "source": [
    "# Add a column for the weekday of the start of the ride\n",
    "rides['Ride start weekday'] = rides['Start date'].dt.weekday_name\n",
    "\n",
    "# Print the median trip time per weekday\n",
    "print(rides.groupby('Ride start weekday')['Duration'].median())"
   ]
  },
  {
   "cell_type": "code",
   "execution_count": 23,
   "metadata": {},
   "outputs": [
    {
     "name": "stdout",
     "output_type": "stream",
     "text": [
      "Start date\n",
      "2017-10-31    5.519242\n",
      "2017-11-30    7.256443\n",
      "2017-12-31    9.202380\n",
      "Freq: M, Name: Time since, dtype: float64\n"
     ]
    }
   ],
   "source": [
    "# Shift the index of the end date up one; now subract it from the start date\n",
    "rides['Time since'] = rides['Start date'] - (rides['End date'].shift(1))\n",
    "\n",
    "# Move from a timedelta to a number of seconds, which is easier to work with\n",
    "rides['Time since'] = rides['Time since'].dt.total_seconds()\n",
    "\n",
    "# Resample to the month\n",
    "monthly = rides.resample('M', on = 'Start date')\n",
    "\n",
    "# Print the average hours between rides each month\n",
    "print(monthly['Time since'].mean()/(60*60))"
   ]
  },
  {
   "cell_type": "code",
   "execution_count": null,
   "metadata": {},
   "outputs": [],
   "source": []
  }
 ],
 "metadata": {
  "kernelspec": {
   "display_name": "Python 3",
   "language": "python",
   "name": "python3"
  },
  "language_info": {
   "codemirror_mode": {
    "name": "ipython",
    "version": 3
   },
   "file_extension": ".py",
   "mimetype": "text/x-python",
   "name": "python",
   "nbconvert_exporter": "python",
   "pygments_lexer": "ipython3",
   "version": "3.7.3"
  }
 },
 "nbformat": 4,
 "nbformat_minor": 2
}
